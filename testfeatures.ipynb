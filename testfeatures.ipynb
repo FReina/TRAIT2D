{
 "cells": [
  {
   "cell_type": "code",
   "execution_count": 1,
   "metadata": {},
   "outputs": [],
   "source": [
    "import trait2d as tr\n",
    "#import trait2d_minflux.minflux as mf\n",
    "from trait2d.analysis.minflux import importPKL, openPKL\n",
    "import pandas as pd\n",
    "import trait2d.analysis.minflux as mf\n",
    "\n",
    "\n",
    "###Ignore a warning which is only relevant for legacy files\n",
    "import warnings\n",
    "from pandas.core.common import SettingWithCopyWarning\n",
    "warnings.simplefilter(action=\"ignore\", category=SettingWithCopyWarning)\n",
    "\n",
    "#display option for my mental health\n",
    "pd.set_option('display.precision',12)"
   ]
  },
  {
   "cell_type": "markdown",
   "metadata": {},
   "source": [
    "### The importPKL function works well with the old format, but not with the new, so it needs to be worked around a bit"
   ]
  },
  {
   "cell_type": "code",
   "execution_count": 2,
   "metadata": {},
   "outputs": [],
   "source": [
    "old = importPKL(name = 'oldformat.pkl')"
   ]
  },
  {
   "cell_type": "code",
   "execution_count": 3,
   "metadata": {},
   "outputs": [],
   "source": [
    "new = importPKL(name = 'newformat.pkl')"
   ]
  },
  {
   "cell_type": "code",
   "execution_count": 4,
   "metadata": {},
   "outputs": [],
   "source": [
    "from trait2d.analysis.minflux import MFTrack\n",
    "\n",
    "for i in range(len(old)):\n",
    "    xx = mf.MFTrack.from_importPKL(old[i])"
   ]
  },
  {
   "cell_type": "code",
   "execution_count": 5,
   "metadata": {},
   "outputs": [],
   "source": [
    "from trait2d.analysis.minflux import MFTrackDB\n",
    "\n",
    "masso = MFTrackDB.from_pkl('.','newformat.pkl')"
   ]
  },
  {
   "cell_type": "code",
   "execution_count": 6,
   "metadata": {},
   "outputs": [
    {
     "data": {
      "text/plain": [
       "trait2d.analysis.minflux.MFTrack"
      ]
     },
     "execution_count": 6,
     "metadata": {},
     "output_type": "execute_result"
    }
   ],
   "source": [
    "type(masso._tracks[1])"
   ]
  },
  {
   "cell_type": "code",
   "execution_count": 15,
   "metadata": {},
   "outputs": [],
   "source": [
    "import numpy as np\n",
    "\n",
    "from trait2d.analysis import ModelDB\n",
    "from trait2d.analysis.models import ModelBrownian, ModelConfined, ModelHop\n",
    "\n",
    "if len(ModelDB().models) !=0:\n",
    "    ModelDB().cleanup()\n",
    "\n",
    "\n",
    "ModelDB().add_model(ModelBrownian)\n",
    "ModelDB().add_model(ModelConfined)\n",
    "ModelDB().add_model(ModelHop)"
   ]
  },
  {
   "cell_type": "code",
   "execution_count": 16,
   "metadata": {},
   "outputs": [],
   "source": [
    "masso.adc_analysis();"
   ]
  },
  {
   "cell_type": "code",
   "execution_count": 17,
   "metadata": {},
   "outputs": [
    {
     "name": "stdout",
     "output_type": "stream",
     "text": [
      "ModelHop\n",
      "ModelHop\n",
      "None\n",
      "ModelHop\n",
      "ModelBrownian\n",
      "ModelHop\n",
      "ModelHop\n",
      "ModelHop\n",
      "ModelHop\n",
      "ModelHop\n",
      "ModelHop\n",
      "ModelHop\n",
      "ModelBrownian\n",
      "ModelHop\n",
      "ModelHop\n",
      "ModelHop\n",
      "ModelHop\n"
     ]
    }
   ],
   "source": [
    "for track in masso._tracks:\n",
    "    print(track._adc_analysis_results['best_model'])"
   ]
  },
  {
   "cell_type": "code",
   "execution_count": 19,
   "metadata": {},
   "outputs": [],
   "source": [
    "import trait2d.analysis.minflux as mf\n",
    "\n",
    "tf = masso.adc_analysis(max_index = 500, fraction_fit_points = 0.1,maxfev = 5000)\n",
    "\n",
    "tf2 = masso.MF_model_average(max_index = 500, fraction_fit_points = 0.1,maxfev = 5000)"
   ]
  },
  {
   "cell_type": "code",
   "execution_count": 20,
   "metadata": {},
   "outputs": [
    {
     "data": {
      "text/plain": [
       "[('ModelBrownian', 2), ('ModelHop', 14)]"
      ]
     },
     "execution_count": 20,
     "metadata": {},
     "output_type": "execute_result"
    }
   ],
   "source": [
    "tf2['sectors']"
   ]
  },
  {
   "cell_type": "code",
   "execution_count": 26,
   "metadata": {},
   "outputs": [],
   "source": [
    "import trait2d.analysis.minflux as mf\n",
    "\n",
    "masso.MF_adc_summary();"
   ]
  },
  {
   "cell_type": "markdown",
   "metadata": {},
   "source": [
    "import matplotlib.pyplot as plt\n",
    "import matplotlib.patches as mpatches\n",
    "import numpy as np\n",
    "from matplotlib.collections import LineCollection\n",
    "from matplotlib.colors import ListedColormap\n",
    "\n",
    "\n",
    "fig, ax = plt.subplots(figsize = (7,7),frameon=False)\n",
    "points = np.array([aaa._x,aaa._y]).T.reshape(-1, 1, 2)\n",
    "segments = np.concatenate([points[:-1], points[1:]], axis=1)\n",
    "norm = plt.Normalize(aaa._t.min(),aaa._t.max(),100)\n",
    "lc = LineCollection(segments, cmap='plasma',norm = norm)\n",
    "line = ax.add_collection(lc)\n",
    "lc.set_array(aaa._t)\n",
    "ax.get_xaxis().set_visible(False)\n",
    "ax.get_yaxis().set_visible(False)\n",
    "ax.axis('off')\n",
    "\n",
    "from mpl_toolkits.axes_grid1 import make_axes_locatable\n",
    "\n",
    "divider = make_axes_locatable(ax)\n",
    "cbar = fig.colorbar(line, cax=fig.add_axes([0.659, 0.22, 0.155, 0.01]), orientation = 'horizontal')\n",
    "cbar.set_ticks([cbar.vmin + t*(cbar.vmax-cbar.vmin) for t in cbar.ax.get_yticks()])\n",
    "cbar.set_ticklabels([t for t in cbar.ax.get_yticks()])\n",
    "\n",
    "ax.set_xlim((aaa._x.min(),aaa._x.max()))\n",
    "ax.set_ylim((aaa._y.min(),aaa._y.max()))\n",
    "scalebar = mpatches.Rectangle((-1.7E-6,4.35E-6),0.1E-6,0.01E-6,facecolor='black')\n",
    "\n",
    "ax.add_patch(scalebar)\n",
    "ax.set_aspect(1.0)"
   ]
  },
  {
   "cell_type": "code",
   "execution_count": 42,
   "metadata": {},
   "outputs": [],
   "source": [
    "from scipy.odr import RealData, Model, ODR\n"
   ]
  },
  {
   "cell_type": "code",
   "execution_count": 38,
   "metadata": {},
   "outputs": [],
   "source": [
    "ex = masso._tracks[1]"
   ]
  },
  {
   "cell_type": "code",
   "execution_count": 80,
   "metadata": {},
   "outputs": [],
   "source": [
    "datei = RealData(ex._tn[0:20], y = ex._adc[0:20], sx = ex._tn_error[0:20], sy = ex._adc_error[0:20])"
   ]
  },
  {
   "cell_type": "code",
   "execution_count": 91,
   "metadata": {},
   "outputs": [],
   "source": [
    "R = 0.166666666\n",
    "\n",
    "def brownie(B,t):\n",
    "    return B[0] + B[1]**2 / (2*t*(1-2*R*t[0]/t))"
   ]
  },
  {
   "cell_type": "code",
   "execution_count": 92,
   "metadata": {},
   "outputs": [],
   "source": [
    "mod = Model(brownie)"
   ]
  },
  {
   "cell_type": "code",
   "execution_count": 93,
   "metadata": {},
   "outputs": [],
   "source": [
    "gionni = ODR(datei,mod,beta0 = [0.5E-12, 20E-9])"
   ]
  },
  {
   "cell_type": "code",
   "execution_count": 94,
   "metadata": {},
   "outputs": [
    {
     "data": {
      "text/plain": [
       "<scipy.odr.odrpack.Output at 0x7fd3f0f8e340>"
      ]
     },
     "execution_count": 94,
     "metadata": {},
     "output_type": "execute_result"
    }
   ],
   "source": [
    "gionni.run()"
   ]
  },
  {
   "cell_type": "code",
   "execution_count": 95,
   "metadata": {},
   "outputs": [
    {
     "data": {
      "text/plain": [
       "array([9.01594112e-14, 2.14629868e-08])"
      ]
     },
     "execution_count": 95,
     "metadata": {},
     "output_type": "execute_result"
    }
   ],
   "source": [
    "gionni.output.beta"
   ]
  },
  {
   "cell_type": "code",
   "execution_count": 96,
   "metadata": {},
   "outputs": [],
   "source": [
    "yy = brownie(gionni.output.beta,ex._tn[0:20])"
   ]
  },
  {
   "cell_type": "code",
   "execution_count": 97,
   "metadata": {},
   "outputs": [
    {
     "data": {
      "text/plain": [
       "[<matplotlib.lines.Line2D at 0x7fd3f1273fd0>]"
      ]
     },
     "execution_count": 97,
     "metadata": {},
     "output_type": "execute_result"
    },
    {
     "data": {
      "image/png": "[encoded data removed]",
      "text/plain": [
       "<Figure size 432x288 with 1 Axes>"
      ]
     },
     "metadata": {},
     "output_type": "display_data"
    }
   ],
   "source": [
    "import matplotlib.pyplot as plt\n",
    "\n",
    "plt.plot(ex._tn[0:20],yy)\n",
    "plt.plot(ex._tn[0:20],ex._adc[0:20])"
   ]
  },
  {
   "cell_type": "code",
   "execution_count": 125,
   "metadata": {},
   "outputs": [
    {
     "ename": "NameError",
     "evalue": "name 'brony' is not defined",
     "output_type": "error",
     "traceback": [
      "Traceback \u001b[0;36m(most recent call last)\u001b[0m:\n",
      "  File \u001b[1;32m\"<ipython-input-125-82601d1af37b>\"\u001b[0m, line \u001b[1;32m13\u001b[0m, in \u001b[1;35m<module>\u001b[0m\n    bronian = _Brownian(R = 0.16666666)\n",
      "\u001b[0;36m  File \u001b[0;32m\"<ipython-input-125-82601d1af37b>\"\u001b[0;36m, line \u001b[0;32m7\u001b[0;36m, in \u001b[0;35m__init__\u001b[0;36m\u001b[0m\n\u001b[0;31m    super().__init__(brony, fjacb=None, fjacd=None,\u001b[0m\n",
      "\u001b[0;31mNameError\u001b[0m\u001b[0;31m:\u001b[0m name 'brony' is not defined\n"
     ]
    }
   ],
   "source": [
    "class _Brownian(Model):\n",
    "    def brony(self,B,t):\n",
    "        return B[0] + B[1]**2 / (2*t*(1-2*self.R*t[0]/t))\n",
    "    \n",
    "    def __init__(self, R):\n",
    "        self.R = R\n",
    "        super().__init__(brony, fjacb=None, fjacd=None,\n",
    "        extra_args=None, estimate=None, implicit=False, meta=None)\n",
    "        \n",
    "\n",
    "        \n",
    "        \n",
    "bronian = _Brownian(R = 0.16666666)"
   ]
  },
  {
   "cell_type": "code",
   "execution_count": 119,
   "metadata": {},
   "outputs": [
    {
     "data": {
      "text/plain": [
       "<scipy.odr.odrpack.Output at 0x7fd3f0f70cd0>"
      ]
     },
     "execution_count": 119,
     "metadata": {},
     "output_type": "execute_result"
    }
   ],
   "source": [
    "gionni5 = ODR(datei,bronian,beta0 = [0.5E-12, 20E-9])\n",
    "\n",
    "gionni5.run()"
   ]
  },
  {
   "cell_type": "code",
   "execution_count": 120,
   "metadata": {},
   "outputs": [],
   "source": [
    "yyy = bronian.fcn(gionni5.output.beta,ex._tn[0:20])"
   ]
  },
  {
   "cell_type": "code",
   "execution_count": 121,
   "metadata": {},
   "outputs": [
    {
     "data": {
      "text/plain": [
       "[<matplotlib.lines.Line2D at 0x7fd3f0f18d90>]"
      ]
     },
     "execution_count": 121,
     "metadata": {},
     "output_type": "execute_result"
    },
    {
     "data": {
      "image/png": "[encoded data removed]",
      "text/plain": [
       "<Figure size 432x288 with 1 Axes>"
      ]
     },
     "metadata": {},
     "output_type": "display_data"
    }
   ],
   "source": [
    "plt.plot(ex._tn[0:20],yyy)\n",
    "plt.plot(ex._tn[0:20],ex._adc[0:20])"
   ]
  },
  {
   "cell_type": "code",
   "execution_count": null,
   "metadata": {},
   "outputs": [],
   "source": []
  },
  {
   "cell_type": "code",
   "execution_count": null,
   "metadata": {},
   "outputs": [],
   "source": []
  },
  {
   "cell_type": "code",
   "execution_count": 28,
   "metadata": {},
   "outputs": [],
   "source": [
    "from trait2d.analysis import ModelDB\n",
    "from trait2d.analysis.models import ModelBrownian, ModelHop\n",
    "ModelDB().cleanup()\n",
    "ModelDB().add_model(ModelHop)\n",
    "ModelDB().add_model(ModelBrownian)"
   ]
  },
  {
   "cell_type": "code",
   "execution_count": 29,
   "metadata": {},
   "outputs": [
    {
     "ename": "NameError",
     "evalue": "name 'aaa' is not defined",
     "output_type": "error",
     "traceback": [
      "Traceback \u001b[0;36m(most recent call last)\u001b[0m:\n",
      "\u001b[0;36m  File \u001b[0;32m\"<ipython-input-29-8e39e99636c6>\"\u001b[0;36m, line \u001b[0;32m1\u001b[0;36m, in \u001b[0;35m<module>\u001b[0;36m\u001b[0m\n\u001b[0;31m    aaa.MF_adc_analysis(weighting = 'error')\u001b[0m\n",
      "\u001b[0;31mNameError\u001b[0m\u001b[0;31m:\u001b[0m name 'aaa' is not defined\n"
     ]
    }
   ],
   "source": [
    "aaa.MF_adc_analysis(weighting = 'error')"
   ]
  },
  {
   "cell_type": "code",
   "execution_count": 30,
   "metadata": {},
   "outputs": [
    {
     "ename": "NameError",
     "evalue": "name 'aaa' is not defined",
     "output_type": "error",
     "traceback": [
      "Traceback \u001b[0;36m(most recent call last)\u001b[0m:\n",
      "\u001b[0;36m  File \u001b[0;32m\"<ipython-input-30-d7a09100ba94>\"\u001b[0;36m, line \u001b[0;32m3\u001b[0;36m, in \u001b[0;35m<module>\u001b[0;36m\u001b[0m\n\u001b[0;31m    idxs = aaa._adc_analysis_results['fit_indices']\u001b[0m\n",
      "\u001b[0;31mNameError\u001b[0m\u001b[0;31m:\u001b[0m name 'aaa' is not defined\n"
     ]
    }
   ],
   "source": [
    "import matplotlib.pyplot as plt\n",
    "\n",
    "idxs = aaa._adc_analysis_results['fit_indices']\n",
    "hop_params = aaa._adc_analysis_results['fit_results']['ModelHop']['params']\n",
    "\n",
    "fig, ax = plt.subplots(figsize = (16,9))\n",
    "ax.scatter(aaa._tn[idxs],aaa._adc[idxs],s = 30)\n",
    "ax.semilogx(aaa._tn[idxs],ModelDB().models[0](aaa._tn[idxs],*hop_params),c = 'red')"
   ]
  },
  {
   "cell_type": "code",
   "execution_count": null,
   "metadata": {},
   "outputs": [],
   "source": []
  },
  {
   "cell_type": "code",
   "execution_count": null,
   "metadata": {},
   "outputs": [],
   "source": []
  },
  {
   "cell_type": "code",
   "execution_count": null,
   "metadata": {},
   "outputs": [],
   "source": []
  }
 ],
 "metadata": {
  "kernelspec": {
   "display_name": "Python 3 (Spyder)",
   "language": "python3",
   "name": "python3"
  },
  "language_info": {
   "codemirror_mode": {
    "name": "ipython",
    "version": 3
   },
   "file_extension": ".py",
   "mimetype": "text/x-python",
   "name": "python",
   "nbconvert_exporter": "python",
   "pygments_lexer": "ipython3",
   "version": "3.9.2"
  }
 },
 "nbformat": 4,
 "nbformat_minor": 4
}
